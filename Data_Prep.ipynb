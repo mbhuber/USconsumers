{
 "cells": [
  {
   "cell_type": "markdown",
   "metadata": {},
   "source": [
    "#### Data sources:\n",
    "IRS tax return data:\n",
    "\n",
    "http://www.irs.gov/uac/SOI-Tax-Stats-Individual-Income-Tax-Statistics-ZIP-Code-Data-(SOI)  (copy & paste link)\n",
    "\n",
    "http://www.irs.gov/uac/SOI-Tax-Stats-Corporation-Complete-Report#corp\n",
    "\n",
    "\n",
    "US Census Bureau data: \n",
    "http://factfinder.census.gov/faces/nav/jsf/pages/index.xhtml\n",
    "\n",
    "US Bureau of Labor Statistics:\n",
    "http://www.bls.gov/data/"
   ]
  },
  {
   "cell_type": "code",
   "execution_count": 1,
   "metadata": {
    "collapsed": true
   },
   "outputs": [],
   "source": [
    "%matplotlib inline\n",
    "import pandas as pd\n",
    "import numpy as np\n"
   ]
  },
  {
   "cell_type": "markdown",
   "metadata": {},
   "source": [
    "## Load Data"
   ]
  },
  {
   "cell_type": "code",
   "execution_count": 2,
   "metadata": {
    "collapsed": false
   },
   "outputs": [
    {
     "name": "stdout",
     "output_type": "stream",
     "text": [
      "11coalccr.zip     12zp05ca.xls      12zpallagi.csv    12zpallnoagi.csv  12zpdoc.doc\r\n"
     ]
    }
   ],
   "source": [
    "%ls data/"
   ]
  },
  {
   "cell_type": "code",
   "execution_count": 3,
   "metadata": {
    "collapsed": false
   },
   "outputs": [],
   "source": [
    "# read file the original data\n",
    "taxD = pd.read_csv('data/12zpallnoagi.csv')"
   ]
  },
  {
   "cell_type": "code",
   "execution_count": 4,
   "metadata": {
    "collapsed": false
   },
   "outputs": [
    {
     "data": {
      "text/html": [
       "<div style=\"max-height:1000px;max-width:1500px;overflow:auto;\">\n",
       "<table border=\"1\" class=\"dataframe\">\n",
       "  <thead>\n",
       "    <tr style=\"text-align: right;\">\n",
       "      <th></th>\n",
       "      <th>STATEFIPS</th>\n",
       "      <th>STATE</th>\n",
       "      <th>ZIPCODE</th>\n",
       "      <th>AGI_STUB</th>\n",
       "      <th>N1</th>\n",
       "      <th>MARS1</th>\n",
       "      <th>MARS2</th>\n",
       "      <th>MARS4</th>\n",
       "      <th>PREP</th>\n",
       "      <th>N2</th>\n",
       "      <th>...</th>\n",
       "      <th>N09600</th>\n",
       "      <th>A09600</th>\n",
       "      <th>N06500</th>\n",
       "      <th>A06500</th>\n",
       "      <th>N10300</th>\n",
       "      <th>A10300</th>\n",
       "      <th>N11901</th>\n",
       "      <th>A11901</th>\n",
       "      <th>N11902</th>\n",
       "      <th>A11902</th>\n",
       "    </tr>\n",
       "  </thead>\n",
       "  <tbody>\n",
       "    <tr>\n",
       "      <th>0</th>\n",
       "      <td> 1</td>\n",
       "      <td> AL</td>\n",
       "      <td>     0</td>\n",
       "      <td> 0</td>\n",
       "      <td> 2023670</td>\n",
       "      <td> 795700</td>\n",
       "      <td> 765000</td>\n",
       "      <td> 426400</td>\n",
       "      <td> 1220240</td>\n",
       "      <td> 4201850</td>\n",
       "      <td>...</td>\n",
       "      <td> 22130</td>\n",
       "      <td> 118812</td>\n",
       "      <td> 1267440</td>\n",
       "      <td> 11415697</td>\n",
       "      <td> 1408860</td>\n",
       "      <td> 12028364</td>\n",
       "      <td> 306060</td>\n",
       "      <td> 1344258</td>\n",
       "      <td> 1639820</td>\n",
       "      <td> 4774834</td>\n",
       "    </tr>\n",
       "    <tr>\n",
       "      <th>1</th>\n",
       "      <td> 1</td>\n",
       "      <td> AL</td>\n",
       "      <td> 35004</td>\n",
       "      <td> 0</td>\n",
       "      <td>    4930</td>\n",
       "      <td>   1940</td>\n",
       "      <td>   2150</td>\n",
       "      <td>    720</td>\n",
       "      <td>    2550</td>\n",
       "      <td>   10170</td>\n",
       "      <td>...</td>\n",
       "      <td>    30</td>\n",
       "      <td>     70</td>\n",
       "      <td>    3570</td>\n",
       "      <td>    24332</td>\n",
       "      <td>    3800</td>\n",
       "      <td>    25545</td>\n",
       "      <td>    750</td>\n",
       "      <td>    2038</td>\n",
       "      <td>    4020</td>\n",
       "      <td>   10592</td>\n",
       "    </tr>\n",
       "    <tr>\n",
       "      <th>2</th>\n",
       "      <td> 1</td>\n",
       "      <td> AL</td>\n",
       "      <td> 35005</td>\n",
       "      <td> 0</td>\n",
       "      <td>    3370</td>\n",
       "      <td>   1310</td>\n",
       "      <td>   1100</td>\n",
       "      <td>    880</td>\n",
       "      <td>    1970</td>\n",
       "      <td>    6800</td>\n",
       "      <td>...</td>\n",
       "      <td>     0</td>\n",
       "      <td>      0</td>\n",
       "      <td>    2150</td>\n",
       "      <td>     9178</td>\n",
       "      <td>    2370</td>\n",
       "      <td>     9809</td>\n",
       "      <td>    420</td>\n",
       "      <td>     984</td>\n",
       "      <td>    2860</td>\n",
       "      <td>    7970</td>\n",
       "    </tr>\n",
       "    <tr>\n",
       "      <th>3</th>\n",
       "      <td> 1</td>\n",
       "      <td> AL</td>\n",
       "      <td> 35006</td>\n",
       "      <td> 0</td>\n",
       "      <td>    1300</td>\n",
       "      <td>    470</td>\n",
       "      <td>    650</td>\n",
       "      <td>    170</td>\n",
       "      <td>     900</td>\n",
       "      <td>    2790</td>\n",
       "      <td>...</td>\n",
       "      <td>     0</td>\n",
       "      <td>      0</td>\n",
       "      <td>     890</td>\n",
       "      <td>     5043</td>\n",
       "      <td>     970</td>\n",
       "      <td>     5244</td>\n",
       "      <td>    140</td>\n",
       "      <td>     239</td>\n",
       "      <td>    1130</td>\n",
       "      <td>    3060</td>\n",
       "    </tr>\n",
       "    <tr>\n",
       "      <th>4</th>\n",
       "      <td> 1</td>\n",
       "      <td> AL</td>\n",
       "      <td> 35007</td>\n",
       "      <td> 0</td>\n",
       "      <td>   11800</td>\n",
       "      <td>   4580</td>\n",
       "      <td>   5250</td>\n",
       "      <td>   1750</td>\n",
       "      <td>    5510</td>\n",
       "      <td>   25460</td>\n",
       "      <td>...</td>\n",
       "      <td>    80</td>\n",
       "      <td>    290</td>\n",
       "      <td>    8120</td>\n",
       "      <td>    59626</td>\n",
       "      <td>    8870</td>\n",
       "      <td>    63335</td>\n",
       "      <td>   2130</td>\n",
       "      <td>    6820</td>\n",
       "      <td>    9290</td>\n",
       "      <td>   23904</td>\n",
       "    </tr>\n",
       "  </tbody>\n",
       "</table>\n",
       "<p>5 rows × 77 columns</p>\n",
       "</div>"
      ],
      "text/plain": [
       "   STATEFIPS STATE  ZIPCODE  AGI_STUB       N1   MARS1   MARS2   MARS4  \\\n",
       "0          1    AL        0         0  2023670  795700  765000  426400   \n",
       "1          1    AL    35004         0     4930    1940    2150     720   \n",
       "2          1    AL    35005         0     3370    1310    1100     880   \n",
       "3          1    AL    35006         0     1300     470     650     170   \n",
       "4          1    AL    35007         0    11800    4580    5250    1750   \n",
       "\n",
       "      PREP       N2   ...     N09600  A09600   N06500    A06500   N10300  \\\n",
       "0  1220240  4201850   ...      22130  118812  1267440  11415697  1408860   \n",
       "1     2550    10170   ...         30      70     3570     24332     3800   \n",
       "2     1970     6800   ...          0       0     2150      9178     2370   \n",
       "3      900     2790   ...          0       0      890      5043      970   \n",
       "4     5510    25460   ...         80     290     8120     59626     8870   \n",
       "\n",
       "     A10300  N11901   A11901   N11902   A11902  \n",
       "0  12028364  306060  1344258  1639820  4774834  \n",
       "1     25545     750     2038     4020    10592  \n",
       "2      9809     420      984     2860     7970  \n",
       "3      5244     140      239     1130     3060  \n",
       "4     63335    2130     6820     9290    23904  \n",
       "\n",
       "[5 rows x 77 columns]"
      ]
     },
     "execution_count": 4,
     "metadata": {},
     "output_type": "execute_result"
    }
   ],
   "source": [
    "#taxD.columns\n",
    "taxD.head()"
   ]
  },
  {
   "cell_type": "markdown",
   "metadata": {},
   "source": [
    "## Clear Table\n",
    "- Remove invalid zip codes "
   ]
  },
  {
   "cell_type": "code",
   "execution_count": 5,
   "metadata": {
    "collapsed": false
   },
   "outputs": [
    {
     "name": "stdout",
     "output_type": "stream",
     "text": [
      "102  rows \n"
     ]
    }
   ],
   "source": [
    "# Remove invalid zip codes\n",
    "isNoZipCode=(taxD['ZIPCODE']==0)|(taxD['ZIPCODE']==99999)\n",
    "print np.sum(isNoZipCode), \" rows \""
   ]
  },
  {
   "cell_type": "code",
   "execution_count": 6,
   "metadata": {
    "collapsed": false
   },
   "outputs": [
    {
     "name": "stdout",
     "output_type": "stream",
     "text": [
      "Before  (27820, 77)\n",
      "After   (27718, 77)\n"
     ]
    }
   ],
   "source": [
    "td = taxD.ix[~isNoZipCode,:]\n",
    "print \"Before \", taxD.shape\n",
    "print \"After  \", td.shape"
   ]
  },
  {
   "cell_type": "code",
   "execution_count": 7,
   "metadata": {
    "collapsed": false
   },
   "outputs": [
    {
     "name": "stdout",
     "output_type": "stream",
     "text": [
      "After  (27718, 74)\n"
     ]
    }
   ],
   "source": [
    "# Remove unnecessary columns\n",
    "removeColList = ['STATEFIPS','STATE','AGI_STUB']\n",
    "\n",
    "isKeepColumn = True\n",
    "for colName in removeColList:\n",
    "    isKeepColumn = isKeepColumn & ( td.columns != colName )\n",
    "\n",
    "td = td[td.columns[isKeepColumn]]\n",
    "\n",
    "print \"After \", td.shape"
   ]
  },
  {
   "cell_type": "code",
   "execution_count": 17,
   "metadata": {
    "collapsed": false
   },
   "outputs": [
    {
     "name": "stdout",
     "output_type": "stream",
     "text": [
      "(27718, 74)\n"
     ]
    },
    {
     "data": {
      "text/html": [
       "<div style=\"max-height:1000px;max-width:1500px;overflow:auto;\">\n",
       "<table border=\"1\" class=\"dataframe\">\n",
       "  <thead>\n",
       "    <tr style=\"text-align: right;\">\n",
       "      <th></th>\n",
       "      <th>ZIPCODE</th>\n",
       "      <th>N1</th>\n",
       "      <th>MARS1</th>\n",
       "      <th>MARS2</th>\n",
       "      <th>MARS4</th>\n",
       "      <th>PREP</th>\n",
       "      <th>N2</th>\n",
       "      <th>NUMDEP</th>\n",
       "      <th>A00100</th>\n",
       "      <th>N00200</th>\n",
       "      <th>...</th>\n",
       "      <th>N09600</th>\n",
       "      <th>A09600</th>\n",
       "      <th>N06500</th>\n",
       "      <th>A06500</th>\n",
       "      <th>N10300</th>\n",
       "      <th>A10300</th>\n",
       "      <th>N11901</th>\n",
       "      <th>A11901</th>\n",
       "      <th>N11902</th>\n",
       "      <th>A11902</th>\n",
       "    </tr>\n",
       "  </thead>\n",
       "  <tbody>\n",
       "    <tr>\n",
       "      <th>1</th>\n",
       "      <td> 35004</td>\n",
       "      <td>  4930</td>\n",
       "      <td> 1940</td>\n",
       "      <td> 2150</td>\n",
       "      <td>  720</td>\n",
       "      <td> 2550</td>\n",
       "      <td> 10170</td>\n",
       "      <td> 3340</td>\n",
       "      <td> 257563</td>\n",
       "      <td>  4320</td>\n",
       "      <td>...</td>\n",
       "      <td> 30</td>\n",
       "      <td>  70</td>\n",
       "      <td> 3570</td>\n",
       "      <td> 24332</td>\n",
       "      <td> 3800</td>\n",
       "      <td> 25545</td>\n",
       "      <td>  750</td>\n",
       "      <td> 2038</td>\n",
       "      <td> 4020</td>\n",
       "      <td> 10592</td>\n",
       "    </tr>\n",
       "    <tr>\n",
       "      <th>2</th>\n",
       "      <td> 35005</td>\n",
       "      <td>  3370</td>\n",
       "      <td> 1310</td>\n",
       "      <td> 1100</td>\n",
       "      <td>  880</td>\n",
       "      <td> 1970</td>\n",
       "      <td>  6800</td>\n",
       "      <td> 2510</td>\n",
       "      <td> 130344</td>\n",
       "      <td>  2860</td>\n",
       "      <td>...</td>\n",
       "      <td>  0</td>\n",
       "      <td>   0</td>\n",
       "      <td> 2150</td>\n",
       "      <td>  9178</td>\n",
       "      <td> 2370</td>\n",
       "      <td>  9809</td>\n",
       "      <td>  420</td>\n",
       "      <td>  984</td>\n",
       "      <td> 2860</td>\n",
       "      <td>  7970</td>\n",
       "    </tr>\n",
       "    <tr>\n",
       "      <th>3</th>\n",
       "      <td> 35006</td>\n",
       "      <td>  1300</td>\n",
       "      <td>  470</td>\n",
       "      <td>  650</td>\n",
       "      <td>  170</td>\n",
       "      <td>  900</td>\n",
       "      <td>  2790</td>\n",
       "      <td>  920</td>\n",
       "      <td>  59920</td>\n",
       "      <td>  1090</td>\n",
       "      <td>...</td>\n",
       "      <td>  0</td>\n",
       "      <td>   0</td>\n",
       "      <td>  890</td>\n",
       "      <td>  5043</td>\n",
       "      <td>  970</td>\n",
       "      <td>  5244</td>\n",
       "      <td>  140</td>\n",
       "      <td>  239</td>\n",
       "      <td> 1130</td>\n",
       "      <td>  3060</td>\n",
       "    </tr>\n",
       "    <tr>\n",
       "      <th>4</th>\n",
       "      <td> 35007</td>\n",
       "      <td> 11800</td>\n",
       "      <td> 4580</td>\n",
       "      <td> 5250</td>\n",
       "      <td> 1750</td>\n",
       "      <td> 5510</td>\n",
       "      <td> 25460</td>\n",
       "      <td> 9310</td>\n",
       "      <td> 630557</td>\n",
       "      <td> 10340</td>\n",
       "      <td>...</td>\n",
       "      <td> 80</td>\n",
       "      <td> 290</td>\n",
       "      <td> 8120</td>\n",
       "      <td> 59626</td>\n",
       "      <td> 8870</td>\n",
       "      <td> 63335</td>\n",
       "      <td> 2130</td>\n",
       "      <td> 6820</td>\n",
       "      <td> 9290</td>\n",
       "      <td> 23904</td>\n",
       "    </tr>\n",
       "    <tr>\n",
       "      <th>5</th>\n",
       "      <td> 35010</td>\n",
       "      <td>  8660</td>\n",
       "      <td> 3020</td>\n",
       "      <td> 2870</td>\n",
       "      <td> 2660</td>\n",
       "      <td> 5060</td>\n",
       "      <td> 19560</td>\n",
       "      <td> 8460</td>\n",
       "      <td> 384835</td>\n",
       "      <td>  7470</td>\n",
       "      <td>...</td>\n",
       "      <td> 60</td>\n",
       "      <td> 397</td>\n",
       "      <td> 4750</td>\n",
       "      <td> 38809</td>\n",
       "      <td> 5230</td>\n",
       "      <td> 41001</td>\n",
       "      <td> 1060</td>\n",
       "      <td> 3471</td>\n",
       "      <td> 7290</td>\n",
       "      <td> 21699</td>\n",
       "    </tr>\n",
       "  </tbody>\n",
       "</table>\n",
       "<p>5 rows × 74 columns</p>\n",
       "</div>"
      ],
      "text/plain": [
       "   ZIPCODE     N1  MARS1  MARS2  MARS4  PREP     N2  NUMDEP  A00100  N00200  \\\n",
       "1    35004   4930   1940   2150    720  2550  10170    3340  257563    4320   \n",
       "2    35005   3370   1310   1100    880  1970   6800    2510  130344    2860   \n",
       "3    35006   1300    470    650    170   900   2790     920   59920    1090   \n",
       "4    35007  11800   4580   5250   1750  5510  25460    9310  630557   10340   \n",
       "5    35010   8660   3020   2870   2660  5060  19560    8460  384835    7470   \n",
       "\n",
       "    ...    N09600  A09600  N06500  A06500  N10300  A10300  N11901  A11901  \\\n",
       "1   ...        30      70    3570   24332    3800   25545     750    2038   \n",
       "2   ...         0       0    2150    9178    2370    9809     420     984   \n",
       "3   ...         0       0     890    5043     970    5244     140     239   \n",
       "4   ...        80     290    8120   59626    8870   63335    2130    6820   \n",
       "5   ...        60     397    4750   38809    5230   41001    1060    3471   \n",
       "\n",
       "   N11902  A11902  \n",
       "1    4020   10592  \n",
       "2    2860    7970  \n",
       "3    1130    3060  \n",
       "4    9290   23904  \n",
       "5    7290   21699  \n",
       "\n",
       "[5 rows x 74 columns]"
      ]
     },
     "execution_count": 17,
     "metadata": {},
     "output_type": "execute_result"
    }
   ],
   "source": [
    "print td.shape\n",
    "td.head()"
   ]
  },
  {
   "cell_type": "markdown",
   "metadata": {},
   "source": [
    "## Save processed file"
   ]
  },
  {
   "cell_type": "code",
   "execution_count": 19,
   "metadata": {
    "collapsed": false
   },
   "outputs": [],
   "source": [
    "            # write to csv, no index\n",
    "            td.to_csv('data/12zpallnoagi_proc.csv', index_label=False)"
   ]
  },
  {
   "cell_type": "code",
   "execution_count": 129,
   "metadata": {
    "collapsed": false
   },
   "outputs": [
    {
     "name": "stdout",
     "output_type": "stream",
     "text": [
      "zip code:  (27718, 1)\n",
      "feat       (27718, 73)\n"
     ]
    }
   ],
   "source": [
    "# separate the zip codes from the features\n",
    "isZipCode = td.columns=='ZIPCODE'\n",
    "zipcode = td[td.columns[ isZipCode]]\n",
    "feat    = td[td.columns[~isZipCode]]\n",
    "\n",
    "print \"zip code: \", zipcode.shape\n",
    "print \"feat      \", feat.shape\n"
   ]
  },
  {
   "cell_type": "code",
   "execution_count": 136,
   "metadata": {
    "collapsed": false
   },
   "outputs": [
    {
     "data": {
      "text/html": [
       "<div style=\"max-height:1000px;max-width:1500px;overflow:auto;\">\n",
       "<table border=\"1\" class=\"dataframe\">\n",
       "  <thead>\n",
       "    <tr style=\"text-align: right;\">\n",
       "      <th></th>\n",
       "      <th>N1</th>\n",
       "      <th>MARS1</th>\n",
       "      <th>MARS2</th>\n",
       "      <th>MARS4</th>\n",
       "      <th>PREP</th>\n",
       "      <th>N2</th>\n",
       "      <th>NUMDEP</th>\n",
       "      <th>A00100</th>\n",
       "      <th>N00200</th>\n",
       "      <th>A00200</th>\n",
       "      <th>...</th>\n",
       "      <th>N09600</th>\n",
       "      <th>A09600</th>\n",
       "      <th>N06500</th>\n",
       "      <th>A06500</th>\n",
       "      <th>N10300</th>\n",
       "      <th>A10300</th>\n",
       "      <th>N11901</th>\n",
       "      <th>A11901</th>\n",
       "      <th>N11902</th>\n",
       "      <th>A11902</th>\n",
       "    </tr>\n",
       "  </thead>\n",
       "  <tbody>\n",
       "    <tr>\n",
       "      <th>1</th>\n",
       "      <td>  4930</td>\n",
       "      <td> 1940</td>\n",
       "      <td> 2150</td>\n",
       "      <td>  720</td>\n",
       "      <td> 2550</td>\n",
       "      <td> 10170</td>\n",
       "      <td> 3340</td>\n",
       "      <td> 257563</td>\n",
       "      <td>  4320</td>\n",
       "      <td> 212053</td>\n",
       "      <td>...</td>\n",
       "      <td> 30</td>\n",
       "      <td>  70</td>\n",
       "      <td> 3570</td>\n",
       "      <td> 24332</td>\n",
       "      <td> 3800</td>\n",
       "      <td> 25545</td>\n",
       "      <td>  750</td>\n",
       "      <td> 2038</td>\n",
       "      <td> 4020</td>\n",
       "      <td> 10592</td>\n",
       "    </tr>\n",
       "    <tr>\n",
       "      <th>2</th>\n",
       "      <td>  3370</td>\n",
       "      <td> 1310</td>\n",
       "      <td> 1100</td>\n",
       "      <td>  880</td>\n",
       "      <td> 1970</td>\n",
       "      <td>  6800</td>\n",
       "      <td> 2510</td>\n",
       "      <td> 130344</td>\n",
       "      <td>  2860</td>\n",
       "      <td> 106936</td>\n",
       "      <td>...</td>\n",
       "      <td>  0</td>\n",
       "      <td>   0</td>\n",
       "      <td> 2150</td>\n",
       "      <td>  9178</td>\n",
       "      <td> 2370</td>\n",
       "      <td>  9809</td>\n",
       "      <td>  420</td>\n",
       "      <td>  984</td>\n",
       "      <td> 2860</td>\n",
       "      <td>  7970</td>\n",
       "    </tr>\n",
       "    <tr>\n",
       "      <th>3</th>\n",
       "      <td>  1300</td>\n",
       "      <td>  470</td>\n",
       "      <td>  650</td>\n",
       "      <td>  170</td>\n",
       "      <td>  900</td>\n",
       "      <td>  2790</td>\n",
       "      <td>  920</td>\n",
       "      <td>  59920</td>\n",
       "      <td>  1090</td>\n",
       "      <td>  49336</td>\n",
       "      <td>...</td>\n",
       "      <td>  0</td>\n",
       "      <td>   0</td>\n",
       "      <td>  890</td>\n",
       "      <td>  5043</td>\n",
       "      <td>  970</td>\n",
       "      <td>  5244</td>\n",
       "      <td>  140</td>\n",
       "      <td>  239</td>\n",
       "      <td> 1130</td>\n",
       "      <td>  3060</td>\n",
       "    </tr>\n",
       "    <tr>\n",
       "      <th>4</th>\n",
       "      <td> 11800</td>\n",
       "      <td> 4580</td>\n",
       "      <td> 5250</td>\n",
       "      <td> 1750</td>\n",
       "      <td> 5510</td>\n",
       "      <td> 25460</td>\n",
       "      <td> 9310</td>\n",
       "      <td> 630557</td>\n",
       "      <td> 10340</td>\n",
       "      <td> 513751</td>\n",
       "      <td>...</td>\n",
       "      <td> 80</td>\n",
       "      <td> 290</td>\n",
       "      <td> 8120</td>\n",
       "      <td> 59626</td>\n",
       "      <td> 8870</td>\n",
       "      <td> 63335</td>\n",
       "      <td> 2130</td>\n",
       "      <td> 6820</td>\n",
       "      <td> 9290</td>\n",
       "      <td> 23904</td>\n",
       "    </tr>\n",
       "    <tr>\n",
       "      <th>5</th>\n",
       "      <td>  8660</td>\n",
       "      <td> 3020</td>\n",
       "      <td> 2870</td>\n",
       "      <td> 2660</td>\n",
       "      <td> 5060</td>\n",
       "      <td> 19560</td>\n",
       "      <td> 8460</td>\n",
       "      <td> 384835</td>\n",
       "      <td>  7470</td>\n",
       "      <td> 261554</td>\n",
       "      <td>...</td>\n",
       "      <td> 60</td>\n",
       "      <td> 397</td>\n",
       "      <td> 4750</td>\n",
       "      <td> 38809</td>\n",
       "      <td> 5230</td>\n",
       "      <td> 41001</td>\n",
       "      <td> 1060</td>\n",
       "      <td> 3471</td>\n",
       "      <td> 7290</td>\n",
       "      <td> 21699</td>\n",
       "    </tr>\n",
       "  </tbody>\n",
       "</table>\n",
       "<p>5 rows × 73 columns</p>\n",
       "</div>"
      ],
      "text/plain": [
       "      N1  MARS1  MARS2  MARS4  PREP     N2  NUMDEP  A00100  N00200  A00200  \\\n",
       "1   4930   1940   2150    720  2550  10170    3340  257563    4320  212053   \n",
       "2   3370   1310   1100    880  1970   6800    2510  130344    2860  106936   \n",
       "3   1300    470    650    170   900   2790     920   59920    1090   49336   \n",
       "4  11800   4580   5250   1750  5510  25460    9310  630557   10340  513751   \n",
       "5   8660   3020   2870   2660  5060  19560    8460  384835    7470  261554   \n",
       "\n",
       "    ...    N09600  A09600  N06500  A06500  N10300  A10300  N11901  A11901  \\\n",
       "1   ...        30      70    3570   24332    3800   25545     750    2038   \n",
       "2   ...         0       0    2150    9178    2370    9809     420     984   \n",
       "3   ...         0       0     890    5043     970    5244     140     239   \n",
       "4   ...        80     290    8120   59626    8870   63335    2130    6820   \n",
       "5   ...        60     397    4750   38809    5230   41001    1060    3471   \n",
       "\n",
       "   N11902  A11902  \n",
       "1    4020   10592  \n",
       "2    2860    7970  \n",
       "3    1130    3060  \n",
       "4    9290   23904  \n",
       "5    7290   21699  \n",
       "\n",
       "[5 rows x 73 columns]"
      ]
     },
     "execution_count": 136,
     "metadata": {},
     "output_type": "execute_result"
    }
   ],
   "source": [
    "feat.head()"
   ]
  },
  {
   "cell_type": "code",
   "execution_count": 14,
   "metadata": {
    "collapsed": false
   },
   "outputs": [],
   "source": [
    "td.to_csv?"
   ]
  },
  {
   "cell_type": "code",
   "execution_count": 82,
   "metadata": {
    "collapsed": false
   },
   "outputs": [
    {
     "data": {
      "text/plain": [
       "array([-1, -2, -2, -2, -2, -2, -2, -2, -2, -2, -2, -2, -2, -2, -2, -2, -2,\n",
       "       -2, -2, -2, -2, -2, -2, -2, -2, -2, -2, -2, -2, -2, -2, -2, -2, -2,\n",
       "       -2, -2, -2, -2, -2, -2, -2, -2, -2, -2, -2, -2, -2, -2, -2, -2, -2,\n",
       "       -2, -2, -2, -2, -2, -2, -2, -2, -2, -2, -2, -2, -2, -2, -2, -2, -2,\n",
       "       -2, -2, -2, -2, -2, -2, -2, -2, -2])"
      ]
     },
     "execution_count": 82,
     "metadata": {},
     "output_type": "execute_result"
    }
   ],
   "source": [
    "#\n",
    "(a)"
   ]
  },
  {
   "cell_type": "code",
   "execution_count": null,
   "metadata": {
    "collapsed": true
   },
   "outputs": [],
   "source": []
  }
 ],
 "metadata": {
  "kernelspec": {
   "display_name": "Python 2",
   "language": "python",
   "name": "python2"
  },
  "language_info": {
   "codemirror_mode": {
    "name": "ipython",
    "version": 2
   },
   "file_extension": ".py",
   "mimetype": "text/x-python",
   "name": "python",
   "nbconvert_exporter": "python",
   "pygments_lexer": "ipython2",
   "version": "2.7.9"
  }
 },
 "nbformat": 4,
 "nbformat_minor": 0
}
