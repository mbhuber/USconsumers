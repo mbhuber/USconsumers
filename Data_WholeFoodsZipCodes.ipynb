{
 "cells": [
  {
   "cell_type": "markdown",
   "metadata": {},
   "source": [
    "Read the in zip codes from Whole Foods"
   ]
  },
  {
   "cell_type": "code",
   "execution_count": 47,
   "metadata": {
    "collapsed": true
   },
   "outputs": [],
   "source": [
    "import urllib2\n",
    "import re\n",
    "import pandas as pd"
   ]
  },
  {
   "cell_type": "code",
   "execution_count": 2,
   "metadata": {
    "collapsed": false
   },
   "outputs": [
    {
     "name": "stdout",
     "output_type": "stream",
     "text": [
      "http://www.wholefoodsmarket.com/stores/list/state?page=0\n",
      "http://www.wholefoodsmarket.com/stores/list/state?page=1\n",
      "http://www.wholefoodsmarket.com/stores/list/state?page=2\n",
      "http://www.wholefoodsmarket.com/stores/list/state?page=3\n",
      "http://www.wholefoodsmarket.com/stores/list/state?page=4\n",
      "http://www.wholefoodsmarket.com/stores/list/state?page=5\n",
      "http://www.wholefoodsmarket.com/stores/list/state?page=6\n",
      "http://www.wholefoodsmarket.com/stores/list/state?page=7\n",
      "http://www.wholefoodsmarket.com/stores/list/state?page=8\n",
      "http://www.wholefoodsmarket.com/stores/list/state?page=9\n",
      "http://www.wholefoodsmarket.com/stores/list/state?page=10\n",
      "http://www.wholefoodsmarket.com/stores/list/state?page=11\n",
      "http://www.wholefoodsmarket.com/stores/list/state?page=12\n",
      "http://www.wholefoodsmarket.com/stores/list/state?page=13\n",
      "http://www.wholefoodsmarket.com/stores/list/state?page=14\n",
      "http://www.wholefoodsmarket.com/stores/list/state?page=15\n",
      "http://www.wholefoodsmarket.com/stores/list/state?page=16\n",
      "http://www.wholefoodsmarket.com/stores/list/state?page=17\n",
      "http://www.wholefoodsmarket.com/stores/list/state?page=18\n",
      "http://www.wholefoodsmarket.com/stores/list/state?page=19\n"
     ]
    }
   ],
   "source": [
    "# create list of urls\n",
    "\n",
    "baseURL = 'http://www.wholefoodsmarket.com/stores/list/state'\n",
    "urlList = []\n",
    "for k in range(20):\n",
    "    url = 'http://www.wholefoodsmarket.com/stores/list/state?page={}'.format(k)\n",
    "    urlList.append(url)\n",
    "    print url"
   ]
  },
  {
   "cell_type": "code",
   "execution_count": 5,
   "metadata": {
    "collapsed": false
   },
   "outputs": [],
   "source": [
    "url = urlList[0]"
   ]
  },
  {
   "cell_type": "code",
   "execution_count": 44,
   "metadata": {
    "collapsed": false
   },
   "outputs": [
    {
     "name": "stdout",
     "output_type": "stream",
     "text": [
      "5-digits:  19 , 9-digits:  1\n",
      "5-digits:  19 , 9-digits:  1\n",
      "5-digits:  19 , 9-digits:  1\n",
      "5-digits:  19 , 9-digits:  1\n",
      "5-digits:  19 , 9-digits:  1\n",
      "5-digits:  18 , 9-digits:  2\n",
      "5-digits:  18 , 9-digits:  2\n",
      "5-digits:  20 , 9-digits:  0\n",
      "5-digits:  20 , 9-digits:  0\n",
      "5-digits:  18 , 9-digits:  2\n",
      "5-digits:  19 , 9-digits:  1\n",
      "5-digits:  19 , 9-digits:  1\n",
      "5-digits:  20 , 9-digits:  0\n",
      "5-digits:  19 , 9-digits:  1\n",
      "5-digits:  17 , 9-digits:  3\n",
      "5-digits:  18 , 9-digits:  2\n",
      "5-digits:  19 , 9-digits:  1\n",
      "5-digits:  20 , 9-digits:  0\n",
      "5-digits:  20 , 9-digits:  0\n",
      "5-digits:  14 , 9-digits:  0\n",
      "total # zip codes: 394\n"
     ]
    }
   ],
   "source": [
    "# parse each web page for the zip codes\n",
    "\n",
    "#pattern=r'autocomplete=\"postal-code\">(\\d\\d\\d\\d\\d)</span>'\n",
    "pattern1=r'\"postal-code\">(\\d\\d\\d\\d\\d)</span>' # for 5-digits zip code\n",
    "pattern2=r'\"postal-code\">(\\d\\d\\d\\d\\d)-(\\d\\d\\d\\d)</span>' # for 9-digits zip code\n",
    "zipcode =[]\n",
    "for url in urlList:\n",
    "    # parse page into string\n",
    "    response = urllib2.urlopen(url)\n",
    "    rawStr = response.read()\n",
    "    response.close()\n",
    "\n",
    "    # find 5 digit zip code\n",
    "    match5 = re.findall(pattern1,rawStr)\n",
    "\n",
    "    for item in match5:\n",
    "        zipcode.append(item)\n",
    "\n",
    "    # find 9 digit zip code\n",
    "    match9 = re.findall(pattern2,rawStr)\n",
    "\n",
    "    for item in match9:\n",
    "        zipcode.append(item[0])\n",
    "\n",
    "    print \"5-digits: \", len(match5),\", 9-digits: \", len(match9)\n",
    "\n",
    "print \"total # zip codes:\", len(zipcode)\n"
   ]
  },
  {
   "cell_type": "code",
   "execution_count": 45,
   "metadata": {
    "collapsed": false
   },
   "outputs": [
    {
     "data": {
      "text/plain": [
       "list"
      ]
     },
     "execution_count": 45,
     "metadata": {},
     "output_type": "execute_result"
    }
   ],
   "source": [
    "zipcode.sort"
   ]
  },
  {
   "cell_type": "code",
   "execution_count": 51,
   "metadata": {
    "collapsed": false
   },
   "outputs": [],
   "source": [
    "# sort zip codes\n",
    "zipcode = sorted(zipcode)"
   ]
  },
  {
   "cell_type": "code",
   "execution_count": 53,
   "metadata": {
    "collapsed": true
   },
   "outputs": [],
   "source": [
    "pd.DataFrame?"
   ]
  },
  {
   "cell_type": "code",
   "execution_count": 57,
   "metadata": {
    "collapsed": false
   },
   "outputs": [],
   "source": [
    "# save the zip codes to a file\n",
    "tmp = pd.DataFrame(zipcode,columns=['WholeFoodsZipCodes'])\n",
    "\n",
    "#tmp.head()\n",
    "# write to csv, no index\n",
    "tmp.to_csv('data/ZipCodes_WholeFoods.csv', index_label=False)"
   ]
  },
  {
   "cell_type": "code",
   "execution_count": 33,
   "metadata": {
    "collapsed": false
   },
   "outputs": [
    {
     "name": "stdout",
     "output_type": "stream",
     "text": [
      "0\n"
     ]
    }
   ],
   "source": [
    "# pattern tests\n",
    "\n",
    "#match = re.search(r'\"locality\">(\\w+)</span>, <span class=\"state\" x-autocompletetype=\"region\" autocomplete=\"region\">(\\w\\w)</span> <span class=\"postal-code\" x-autocompletetype=\"postal-code\" autocomplete=\"postal-code\">(\\d\\d\\d\\d\\d)</span>',rawStr)\n",
    "\n",
    "if False:\n",
    "    pattern=r'\"locality\">(\\w+)</span>, \\\n",
    "    <span class=\"state\" x-autocompletetype=\"region\" \\\n",
    "    autocomplete=\"region\">(\\w\\w)</span> <span class=\"postal-code\" \\\n",
    "    x-autocompletetype=\"postal-code\" autocomplete=\"postal-code\">(\\d+)</span>'\n",
    "\n",
    "#pattern=r'\"postal-code\">(\\d\\d\\d\\d\\d)</span>'\n",
    "\n",
    "if True:\n",
    "    pattern=r'\"locality\">(\\w+\\t\\w+)</span>, \\\n",
    "<span class=\"state\" x-autocompletetype=\"region\" \\\n",
    "autocomplete=\"region\">(\\w\\w)</span> <span class=\"postal-code\" \\\n",
    "x-autocompletetype=\"postal-code\" autocomplete=\"postal-code\">(\\d+)</span>'\n",
    "\n",
    "\n",
    "match = re.findall(pattern,rawStr)\n",
    "print len(match)\n",
    "for item in match:\n",
    "    print item\n"
   ]
  },
  {
   "cell_type": "code",
   "execution_count": 15,
   "metadata": {
    "collapsed": false
   },
   "outputs": [
    {
     "data": {
      "text/plain": [
       "[('Birmingham', 'AL', '35243'),\n",
       " ('Phoenix', 'AZ', '85028'),\n",
       " ('Chandler', 'AZ', '85224'),\n",
       " ('Sedona', 'AZ', '86336'),\n",
       " ('Tucson', 'AZ', '85704'),\n",
       " ('Tucson', 'AZ', '85716'),\n",
       " ('Prescott', 'AZ', '86305'),\n",
       " ('Tempe', 'AZ', '85282'),\n",
       " ('Phoenix', 'AZ', '85054'),\n",
       " ('Flagstaff', 'AZ', '86001'),\n",
       " ('Phoenix', 'AZ', '85016'),\n",
       " ('Tustin', 'CA', '92782'),\n",
       " ('Davis', 'CA', '95616'),\n",
       " ('Cupertino', 'CA', '95014')]"
      ]
     },
     "execution_count": 15,
     "metadata": {},
     "output_type": "execute_result"
    }
   ],
   "source": [
    "match"
   ]
  }
 ],
 "metadata": {
  "kernelspec": {
   "display_name": "Python 2",
   "language": "python",
   "name": "python2"
  },
  "language_info": {
   "codemirror_mode": {
    "name": "ipython",
    "version": 2
   },
   "file_extension": ".py",
   "mimetype": "text/x-python",
   "name": "python",
   "nbconvert_exporter": "python",
   "pygments_lexer": "ipython2",
   "version": "2.7.9"
  }
 },
 "nbformat": 4,
 "nbformat_minor": 0
}
