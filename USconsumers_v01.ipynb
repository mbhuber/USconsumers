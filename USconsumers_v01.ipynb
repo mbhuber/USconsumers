{
 "cells": [
  {
   "cell_type": "code",
   "execution_count": null,
   "metadata": {
    "collapsed": false
   },
   "outputs": [],
   "source": []
  },
  {
   "cell_type": "markdown",
   "metadata": {},
   "source": [
    "### Proposal"
   ]
  },
  {
   "cell_type": "markdown",
   "metadata": {},
   "source": [
    "The goal of the project is to predict what types of US consumers are available in a given metropolitan area. This insight has value to retail companies who are interested to know more about their potential customers.\n",
    "\n",
    "For the project, publicly available IRS tax return data will utilized and combined with publicly available US Census Bureau data and US Bureau of Labor Statistics.\n",
    "\n",
    "Based on these combined data sets, the exploratory analysis will be performed and predictions will be made about what type of US consumers are located in a given area."
   ]
  },
  {
   "cell_type": "markdown",
   "metadata": {
    "collapsed": false
   },
   "source": [
    "#### To do:\n",
    "\n",
    "- get more zip codes, g\n",
    "\n",
    "#### Done:\n",
    "ZipCodes - WholeFoods "
   ]
  },
  {
   "cell_type": "markdown",
   "metadata": {},
   "source": [
    "# 1\n",
    "simple model, underfit, high recall that here is WF\n",
    "\n",
    "if model predicts WF but there is not\n",
    "\n",
    "\n",
    "# 2\n",
    "clustering:\n",
    "\n",
    "closest\n",
    "- to one \n",
    "- to the centroid\n",
    "- furtherest\n",
    "\n",
    "\n",
    "collaborative filtering\n",
    "\n"
   ]
  }
 ],
 "metadata": {
  "kernelspec": {
   "display_name": "Python 2",
   "language": "python",
   "name": "python2"
  },
  "language_info": {
   "codemirror_mode": {
    "name": "ipython",
    "version": 2
   },
   "file_extension": ".py",
   "mimetype": "text/x-python",
   "name": "python",
   "nbconvert_exporter": "python",
   "pygments_lexer": "ipython2",
   "version": "2.7.9"
  }
 },
 "nbformat": 4,
 "nbformat_minor": 0
}
