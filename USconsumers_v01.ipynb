{
 "metadata": {
  "name": "",
  "signature": "sha256:e8950080680df579b7a861113dec689e4a5e9cac8290ac3a81191f0d8f4efc1c"
 },
 "nbformat": 3,
 "nbformat_minor": 0,
 "worksheets": [
  {
   "cells": [
    {
     "cell_type": "code",
     "collapsed": false,
     "input": [],
     "language": "python",
     "metadata": {},
     "outputs": []
    },
    {
     "cell_type": "heading",
     "level": 3,
     "metadata": {},
     "source": [
      "Proposal"
     ]
    },
    {
     "cell_type": "markdown",
     "metadata": {},
     "source": [
      "The goal of the project is to predict what types of US consumers are available in a given metropolitan area. This insight has value to retail companies who are interested to know more about their potential customers.\n",
      "\n",
      "For the project, publicly available IRS tax return data will utilized and combined with publicly available US Census Bureau data and US Bureau of Labor Statistics.\n",
      "\n",
      "Based on these combined data sets, the exploratory analysis will be performed and predictions will be made about what type of US consumers are located in a given area."
     ]
    },
    {
     "cell_type": "code",
     "collapsed": false,
     "input": [],
     "language": "python",
     "metadata": {},
     "outputs": []
    }
   ],
   "metadata": {}
  }
 ]
}